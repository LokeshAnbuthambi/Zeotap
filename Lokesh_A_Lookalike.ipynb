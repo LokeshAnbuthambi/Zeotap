{
 "cells": [
  {
   "cell_type": "code",
   "execution_count": 1,
   "metadata": {},
   "outputs": [],
   "source": [
    "import pandas as pd\n",
    "from sklearn.metrics.pairwise import cosine_similarity\n",
    "from sklearn.preprocessing import StandardScaler"
   ]
  },
  {
   "cell_type": "code",
   "execution_count": 2,
   "metadata": {},
   "outputs": [],
   "source": [
    "customers = pd.read_csv(\"Customers.csv\")\n",
    "products = pd.read_csv(\"Products.csv\")\n",
    "transactions = pd.read_csv(\"Transactions.csv\")"
   ]
  },
  {
   "cell_type": "code",
   "execution_count": 3,
   "metadata": {},
   "outputs": [],
   "source": [
    "data = pd.merge(transactions, customers, on=\"CustomerID\", how=\"left\")\n",
    "data = pd.merge(data, products, on=\"ProductID\", how=\"left\")"
   ]
  },
  {
   "cell_type": "code",
   "execution_count": 17,
   "metadata": {},
   "outputs": [],
   "source": [
    "#Aggregate features for each customer\n",
    "customer_features = data.groupby('CustomerID').agg({'TotalValue': 'sum','TransactionID': 'count','Category': lambda x: x.mode()[0],}).reset_index()"
   ]
  },
  {
   "cell_type": "code",
   "execution_count": 5,
   "metadata": {},
   "outputs": [],
   "source": [
    "#Encode categorical data\n",
    "customer_features = pd.get_dummies(customer_features, columns=['Category'], prefix='Cat')"
   ]
  },
  {
   "cell_type": "code",
   "execution_count": 6,
   "metadata": {},
   "outputs": [],
   "source": [
    "#Normalize numerical features\n",
    "scaler = StandardScaler()\n",
    "numeric_cols = ['TotalValue', 'TransactionID']\n",
    "customer_features[numeric_cols] = scaler.fit_transform(customer_features[numeric_cols])"
   ]
  },
  {
   "cell_type": "code",
   "execution_count": 7,
   "metadata": {},
   "outputs": [],
   "source": [
    "#Compute similarity using cosine similarity\n",
    "customer_ids = customer_features['CustomerID']\n",
    "feature_matrix = customer_features.drop(columns=['CustomerID'])\n",
    "similarity_matrix = cosine_similarity(feature_matrix)"
   ]
  },
  {
   "cell_type": "code",
   "execution_count": 8,
   "metadata": {},
   "outputs": [],
   "source": [
    "#Find top 3 similar customers for each target customer\n",
    "def get_top_similar_customers(similarity_matrix, customer_ids, top_n=3):\n",
    "    similar_customers = {}\n",
    "    for idx, cust_id in enumerate(customer_ids):\n",
    "        scores = list(enumerate(similarity_matrix[idx]))\n",
    "        scores = sorted(scores, key=lambda x: x[1], reverse=True)\n",
    "        top_customers = [(customer_ids[i], round(score, 3)) for i, score in scores[1:top_n+1]]\n",
    "        similar_customers[cust_id] = top_customers\n",
    "    return similar_customers"
   ]
  },
  {
   "cell_type": "code",
   "execution_count": 9,
   "metadata": {},
   "outputs": [],
   "source": [
    "#Generate lookalikes for the first 20 customers\n",
    "target_customers = customer_ids[customer_ids.isin([f'C{i:04d}' for i in range(1, 21)])]\n",
    "lookalikes = get_top_similar_customers(similarity_matrix, customer_ids)"
   ]
  },
  {
   "cell_type": "code",
   "execution_count": 10,
   "metadata": {},
   "outputs": [],
   "source": [
    "#Filter lookalikes for the target customers\n",
    "lookalikes_filtered = {cust_id: lookalikes[cust_id] for cust_id in target_customers}"
   ]
  },
  {
   "cell_type": "code",
   "execution_count": 11,
   "metadata": {},
   "outputs": [],
   "source": [
    "#Save the results as CSV file\n",
    "lookalike_df = pd.DataFrame({\n",
    "    'CustomerID': lookalikes_filtered.keys(),\n",
    "    'Lookalikes': [str(value) for value in lookalikes_filtered.values()]\n",
    "})\n",
    "lookalike_df.to_csv('Lokesh_A_Lookalike.csv', index=False)"
   ]
  },
  {
   "cell_type": "code",
   "execution_count": 16,
   "metadata": {},
   "outputs": [
    {
     "data": {
      "text/html": [
       "<div>\n",
       "<style scoped>\n",
       "    .dataframe tbody tr th:only-of-type {\n",
       "        vertical-align: middle;\n",
       "    }\n",
       "\n",
       "    .dataframe tbody tr th {\n",
       "        vertical-align: top;\n",
       "    }\n",
       "\n",
       "    .dataframe thead th {\n",
       "        text-align: right;\n",
       "    }\n",
       "</style>\n",
       "<table border=\"1\" class=\"dataframe\">\n",
       "  <thead>\n",
       "    <tr style=\"text-align: right;\">\n",
       "      <th></th>\n",
       "      <th>CustomerID</th>\n",
       "      <th>Lookalikes</th>\n",
       "    </tr>\n",
       "  </thead>\n",
       "  <tbody>\n",
       "    <tr>\n",
       "      <th>0</th>\n",
       "      <td>C0001</td>\n",
       "      <td>[('C0072', np.float64(0.982)), ('C0190', np.float64(0.981)), ('C0069', np.float64(0.969))]</td>\n",
       "    </tr>\n",
       "    <tr>\n",
       "      <th>1</th>\n",
       "      <td>C0002</td>\n",
       "      <td>[('C0029', np.float64(1.0)), ('C0010', np.float64(0.999)), ('C0062', np.float64(0.97))]</td>\n",
       "    </tr>\n",
       "    <tr>\n",
       "      <th>2</th>\n",
       "      <td>C0003</td>\n",
       "      <td>[('C0178', np.float64(1.0)), ('C0052', np.float64(0.995)), ('C0166', np.float64(0.991))]</td>\n",
       "    </tr>\n",
       "    <tr>\n",
       "      <th>3</th>\n",
       "      <td>C0004</td>\n",
       "      <td>[('C0021', np.float64(1.0)), ('C0101', np.float64(0.999)), ('C0173', np.float64(0.995))]</td>\n",
       "    </tr>\n",
       "    <tr>\n",
       "      <th>4</th>\n",
       "      <td>C0005</td>\n",
       "      <td>[('C0112', np.float64(1.0)), ('C0197', np.float64(1.0)), ('C0186', np.float64(0.997))]</td>\n",
       "    </tr>\n",
       "    <tr>\n",
       "      <th>5</th>\n",
       "      <td>C0006</td>\n",
       "      <td>[('C0117', np.float64(0.996)), ('C0168', np.float64(0.954)), ('C0064', np.float64(0.919))]</td>\n",
       "    </tr>\n",
       "    <tr>\n",
       "      <th>6</th>\n",
       "      <td>C0007</td>\n",
       "      <td>[('C0120', np.float64(0.999)), ('C0005', np.float64(0.984)), ('C0050', np.float64(0.983))]</td>\n",
       "    </tr>\n",
       "    <tr>\n",
       "      <th>7</th>\n",
       "      <td>C0008</td>\n",
       "      <td>[('C0113', np.float64(0.951)), ('C0124', np.float64(0.908)), ('C0109', np.float64(0.853))]</td>\n",
       "    </tr>\n",
       "    <tr>\n",
       "      <th>8</th>\n",
       "      <td>C0009</td>\n",
       "      <td>[('C0077', np.float64(1.0)), ('C0083', np.float64(0.999)), ('C0062', np.float64(0.986))]</td>\n",
       "    </tr>\n",
       "    <tr>\n",
       "      <th>9</th>\n",
       "      <td>C0010</td>\n",
       "      <td>[('C0029', np.float64(1.0)), ('C0002', np.float64(0.999)), ('C0009', np.float64(0.971))]</td>\n",
       "    </tr>\n",
       "    <tr>\n",
       "      <th>10</th>\n",
       "      <td>C0011</td>\n",
       "      <td>[('C0064', np.float64(0.987)), ('C0137', np.float64(0.977)), ('C0191', np.float64(0.923))]</td>\n",
       "    </tr>\n",
       "    <tr>\n",
       "      <th>11</th>\n",
       "      <td>C0012</td>\n",
       "      <td>[('C0104', np.float64(0.974)), ('C0100', np.float64(0.968)), ('C0113', np.float64(0.963))]</td>\n",
       "    </tr>\n",
       "    <tr>\n",
       "      <th>12</th>\n",
       "      <td>C0013</td>\n",
       "      <td>[('C0143', np.float64(1.0)), ('C0099', np.float64(0.99)), ('C0145', np.float64(0.976))]</td>\n",
       "    </tr>\n",
       "    <tr>\n",
       "      <th>13</th>\n",
       "      <td>C0014</td>\n",
       "      <td>[('C0151', np.float64(1.0)), ('C0097', np.float64(1.0)), ('C0060', np.float64(0.999))]</td>\n",
       "    </tr>\n",
       "    <tr>\n",
       "      <th>14</th>\n",
       "      <td>C0015</td>\n",
       "      <td>[('C0063', np.float64(0.999)), ('C0123', np.float64(0.999)), ('C0078', np.float64(0.992))]</td>\n",
       "    </tr>\n",
       "    <tr>\n",
       "      <th>15</th>\n",
       "      <td>C0016</td>\n",
       "      <td>[('C0183', np.float64(1.0)), ('C0107', np.float64(0.991)), ('C0149', np.float64(0.968))]</td>\n",
       "    </tr>\n",
       "    <tr>\n",
       "      <th>16</th>\n",
       "      <td>C0017</td>\n",
       "      <td>[('C0004', np.float64(0.988)), ('C0021', np.float64(0.986)), ('C0101', np.float64(0.98))]</td>\n",
       "    </tr>\n",
       "    <tr>\n",
       "      <th>17</th>\n",
       "      <td>C0018</td>\n",
       "      <td>[('C0187', np.float64(0.998)), ('C0171', np.float64(0.993)), ('C0064', np.float64(0.949))]</td>\n",
       "    </tr>\n",
       "    <tr>\n",
       "      <th>18</th>\n",
       "      <td>C0019</td>\n",
       "      <td>[('C0116', np.float64(0.974)), ('C0047', np.float64(0.905)), ('C0174', np.float64(0.892))]</td>\n",
       "    </tr>\n",
       "    <tr>\n",
       "      <th>19</th>\n",
       "      <td>C0020</td>\n",
       "      <td>[('C0130', np.float64(0.998)), ('C0095', np.float64(0.994)), ('C0140', np.float64(0.987))]</td>\n",
       "    </tr>\n",
       "  </tbody>\n",
       "</table>\n",
       "</div>"
      ],
      "text/plain": [
       "   CustomerID  \\\n",
       "0       C0001   \n",
       "1       C0002   \n",
       "2       C0003   \n",
       "3       C0004   \n",
       "4       C0005   \n",
       "5       C0006   \n",
       "6       C0007   \n",
       "7       C0008   \n",
       "8       C0009   \n",
       "9       C0010   \n",
       "10      C0011   \n",
       "11      C0012   \n",
       "12      C0013   \n",
       "13      C0014   \n",
       "14      C0015   \n",
       "15      C0016   \n",
       "16      C0017   \n",
       "17      C0018   \n",
       "18      C0019   \n",
       "19      C0020   \n",
       "\n",
       "                                                                                    Lookalikes  \n",
       "0   [('C0072', np.float64(0.982)), ('C0190', np.float64(0.981)), ('C0069', np.float64(0.969))]  \n",
       "1      [('C0029', np.float64(1.0)), ('C0010', np.float64(0.999)), ('C0062', np.float64(0.97))]  \n",
       "2     [('C0178', np.float64(1.0)), ('C0052', np.float64(0.995)), ('C0166', np.float64(0.991))]  \n",
       "3     [('C0021', np.float64(1.0)), ('C0101', np.float64(0.999)), ('C0173', np.float64(0.995))]  \n",
       "4       [('C0112', np.float64(1.0)), ('C0197', np.float64(1.0)), ('C0186', np.float64(0.997))]  \n",
       "5   [('C0117', np.float64(0.996)), ('C0168', np.float64(0.954)), ('C0064', np.float64(0.919))]  \n",
       "6   [('C0120', np.float64(0.999)), ('C0005', np.float64(0.984)), ('C0050', np.float64(0.983))]  \n",
       "7   [('C0113', np.float64(0.951)), ('C0124', np.float64(0.908)), ('C0109', np.float64(0.853))]  \n",
       "8     [('C0077', np.float64(1.0)), ('C0083', np.float64(0.999)), ('C0062', np.float64(0.986))]  \n",
       "9     [('C0029', np.float64(1.0)), ('C0002', np.float64(0.999)), ('C0009', np.float64(0.971))]  \n",
       "10  [('C0064', np.float64(0.987)), ('C0137', np.float64(0.977)), ('C0191', np.float64(0.923))]  \n",
       "11  [('C0104', np.float64(0.974)), ('C0100', np.float64(0.968)), ('C0113', np.float64(0.963))]  \n",
       "12     [('C0143', np.float64(1.0)), ('C0099', np.float64(0.99)), ('C0145', np.float64(0.976))]  \n",
       "13      [('C0151', np.float64(1.0)), ('C0097', np.float64(1.0)), ('C0060', np.float64(0.999))]  \n",
       "14  [('C0063', np.float64(0.999)), ('C0123', np.float64(0.999)), ('C0078', np.float64(0.992))]  \n",
       "15    [('C0183', np.float64(1.0)), ('C0107', np.float64(0.991)), ('C0149', np.float64(0.968))]  \n",
       "16   [('C0004', np.float64(0.988)), ('C0021', np.float64(0.986)), ('C0101', np.float64(0.98))]  \n",
       "17  [('C0187', np.float64(0.998)), ('C0171', np.float64(0.993)), ('C0064', np.float64(0.949))]  \n",
       "18  [('C0116', np.float64(0.974)), ('C0047', np.float64(0.905)), ('C0174', np.float64(0.892))]  \n",
       "19  [('C0130', np.float64(0.998)), ('C0095', np.float64(0.994)), ('C0140', np.float64(0.987))]  "
      ]
     },
     "execution_count": 16,
     "metadata": {},
     "output_type": "execute_result"
    }
   ],
   "source": [
    "pd.set_option('display.max_colwidth', None)\n",
    "lookalike_df.head(20)"
   ]
  }
 ],
 "metadata": {
  "kernelspec": {
   "display_name": "Python 3",
   "language": "python",
   "name": "python3"
  },
  "language_info": {
   "codemirror_mode": {
    "name": "ipython",
    "version": 3
   },
   "file_extension": ".py",
   "mimetype": "text/x-python",
   "name": "python",
   "nbconvert_exporter": "python",
   "pygments_lexer": "ipython3",
   "version": "3.13.1"
  }
 },
 "nbformat": 4,
 "nbformat_minor": 2
}
